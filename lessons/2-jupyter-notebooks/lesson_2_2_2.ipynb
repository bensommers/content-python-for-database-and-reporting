{
 "cells": [
  {
   "cell_type": "markdown",
   "metadata": {},
   "source": [
    "# pandas Dataframes - Slicing and Filtering\n",
    "\n",
    "## lesson_2_2_2"
   ]
  },
  {
   "cell_type": "markdown",
   "metadata": {},
   "source": [
    "## We will use the same dataframe as last lesson.\n",
    "### Import packages"
   ]
  },
  {
   "cell_type": "code",
   "execution_count": null,
   "metadata": {},
   "outputs": [],
   "source": [
    "import pandas as pd"
   ]
  },
  {
   "cell_type": "markdown",
   "metadata": {},
   "source": [
    "### Creating a Basic Dataframe From JSON"
   ]
  },
  {
   "cell_type": "code",
   "execution_count": null,
   "metadata": {},
   "outputs": [],
   "source": [
    "# define the data as a list\n",
    "data = [\n",
    "    (\"Dexter\",\"Johnsons\",\"dog\",\"shiba inu\",\"red sesame\",1.5,35,\"m\",False,\"both\",True),\n",
    "    (\"Alfred\",\"Johnsons\",\"cat\",\"mix\",\"tuxedo\",4,12,\"m\",True,\"indoor\",True),\n",
    "    (\"Petra\",\"Smith\",\"cat\",\"ragdoll\",\"calico\",None,10,\"f\",False,\"both\",True),\n",
    "    (\"Ava\",\"Smith\",\"dog\",\"mix\",\"blk/wht\",12,32,\"f\",True,\"both\",False),\n",
    "    (\"Schroder\",\"Brown\",\"cat\",\"mix\",\"orange\",13,15,\"m\",False,\"indoor\",True),\n",
    "    (\"Blackbeard\",\"Brown\",\"bird\",\"parrot\",\"multi\",5,3,\"f\",False,\"indoor\",),\n",
    "]\n",
    "\n",
    "# define the labels\n",
    "labels = [\"name\",\"owner\",\"type\",\"breed\",\"color\",\"age\",\"weight\",\"gender\",\"health issues\",\"indoor/outboor\",\"vaccinated\"]\n",
    "\n",
    "# create dataframe\n",
    "vet_records = pd.DataFrame.from_records(data, columns=labels)"
   ]
  },
  {
   "cell_type": "markdown",
   "metadata": {},
   "source": [
    "### A Note of Caution\n",
    "\n",
    "Changes and updates to a dataframe is only permanent if saved to the dataframe.  So for example we might say `vet_records = ...` to permanently change the dataframe `vet_records`.  In many cases keeping a reference dataframe is a good practice.  For example, `vet_records_dogs = vet_records[vet_records.type==\"dog\"]` instead of `vet_records = vet_records[vet_records.type==\"dog\"]`.  This will leave you with a dataframe to reference that contains the unaldulterated data."
   ]
  },
  {
   "cell_type": "markdown",
   "metadata": {},
   "source": [
    "### Grouping and Counting Data\n",
    "\n",
    "Using counting and grouping can help you get a better grasp of the data."
   ]
  },
  {
   "cell_type": "code",
   "execution_count": null,
   "metadata": {},
   "outputs": [],
   "source": [
    "# How many types of pets do we have?\n",
    "vet_records.type.count()"
   ]
  },
  {
   "cell_type": "code",
   "execution_count": null,
   "metadata": {},
   "outputs": [],
   "source": [
    "vet_records.groupby('type').count()"
   ]
  },
  {
   "cell_type": "code",
   "execution_count": null,
   "metadata": {},
   "outputs": [],
   "source": [
    "vet_records.type.value_counts()"
   ]
  },
  {
   "cell_type": "markdown",
   "metadata": {},
   "source": [
    "### Slicing (Filtering) Data\n",
    "\n",
    "Slicing data, that is, picking parts of teh data you want to use for a specific purpose is easy with pandas once you have the conpcets down.\n"
   ]
  },
  {
   "cell_type": "markdown",
   "metadata": {},
   "source": [
    "#### Here we slice the data to get only the weight column."
   ]
  },
  {
   "cell_type": "code",
   "execution_count": null,
   "metadata": {},
   "outputs": [],
   "source": [
    "# Create a pandas series from the dataframe\n",
    "weight = vet_records['weight']"
   ]
  },
  {
   "cell_type": "code",
   "execution_count": null,
   "metadata": {},
   "outputs": [],
   "source": [
    "weight"
   ]
  },
  {
   "cell_type": "markdown",
   "metadata": {},
   "source": [
    "Notice that vet_records was not changed"
   ]
  },
  {
   "cell_type": "code",
   "execution_count": null,
   "metadata": {},
   "outputs": [],
   "source": [
    "vet_records.head()"
   ]
  },
  {
   "cell_type": "markdown",
   "metadata": {},
   "source": [
    "While `weight` does show us all the weights for the animals in the dataframe, unless we are interested in straight weight values for some calculation, it is not very useful data.  A list of numbers by themselves is usually not data that can be used.\n",
    "\n",
    "So, instead let's get all the dog weights."
   ]
  },
  {
   "cell_type": "code",
   "execution_count": null,
   "metadata": {},
   "outputs": [],
   "source": [
    "# Collect the dog weights only using a boolean filter\n",
    "dog_weight = vet_records.weight[vet_records.type=='dog']"
   ]
  },
  {
   "cell_type": "code",
   "execution_count": null,
   "metadata": {},
   "outputs": [],
   "source": [
    "dog_weight"
   ]
  },
  {
   "cell_type": "markdown",
   "metadata": {},
   "source": [
    "While this still only is a list of values, at least by the variable name we know these are the weights of all the dogs in the sample.\n",
    "\n",
    "A better way might be to just slice all the dog data."
   ]
  },
  {
   "cell_type": "code",
   "execution_count": null,
   "metadata": {},
   "outputs": [],
   "source": [
    "dogs = vet_records[vet_records.type=='dog']"
   ]
  },
  {
   "cell_type": "code",
   "execution_count": null,
   "metadata": {},
   "outputs": [],
   "source": [
    "dogs"
   ]
  },
  {
   "cell_type": "markdown",
   "metadata": {},
   "source": [
    "#### Using `loc` and `iloc`\n",
    "\n",
    "- `loc` allows you to use column names to slice data\n",
    "- `iloc` requires the use of index numbers.  Example: `.iloc[row, column]`. Remember: python indexes starting at 0."
   ]
  },
  {
   "cell_type": "code",
   "execution_count": null,
   "metadata": {},
   "outputs": [],
   "source": [
    "# get the pet name and owner for the 2nd record in the dataframe\n",
    "vet_records.loc[1,[\"name\", \"owner\"]]"
   ]
  },
  {
   "cell_type": "code",
   "execution_count": null,
   "metadata": {},
   "outputs": [],
   "source": [
    "# get the pet name and owner for all pets in the dataframe\n",
    "vet_records.loc[:,[\"name\", \"owner\"]]"
   ]
  },
  {
   "cell_type": "code",
   "execution_count": null,
   "metadata": {},
   "outputs": [],
   "source": [
    "# get all the names of the pets using iloc\n",
    "vet_records.iloc[:,0]"
   ]
  },
  {
   "cell_type": "code",
   "execution_count": null,
   "metadata": {},
   "outputs": [],
   "source": [
    "# get the name Petra\n",
    "vet_records.iloc[2,0]"
   ]
  },
  {
   "cell_type": "code",
   "execution_count": null,
   "metadata": {},
   "outputs": [],
   "source": [
    "# get the color and age of the 3rd and 4th pet, notice these are not contiguous\n",
    "vet_records.iloc[[2,3],[4,5]]"
   ]
  },
  {
   "cell_type": "markdown",
   "metadata": {},
   "source": [
    "#### `.isin` can be used to gather data about a list of items\n",
    "\n",
    "Collect the data for Dexter and Blackbeard"
   ]
  },
  {
   "cell_type": "code",
   "execution_count": null,
   "metadata": {},
   "outputs": [],
   "source": [
    "\n",
    "vet_records[vet_records.name.isin(['Dexter','Blackbeard'])]"
   ]
  },
  {
   "cell_type": "markdown",
   "metadata": {},
   "source": [
    "#### `~` can be used as a *not* logical operator.\n",
    "\n",
    "Here we ask for all pets **_not_** named Dexter or Blackbeard"
   ]
  },
  {
   "cell_type": "code",
   "execution_count": null,
   "metadata": {},
   "outputs": [],
   "source": [
    "vet_records[~vet_records.name.isin(['Dexter','Blackbeard'])]"
   ]
  },
  {
   "cell_type": "markdown",
   "metadata": {},
   "source": [
    "#### Boolean Masks\n",
    "\n",
    "There are times when a boolean mask will be useful to you.  They are similar to filtereing by booleans, but involve using `mask` file.  The `mask` name is what I choose to call them they can be named anything you like.\n",
    "\n",
    "Create a mask for male pets."
   ]
  },
  {
   "cell_type": "code",
   "execution_count": null,
   "metadata": {},
   "outputs": [],
   "source": [
    "mask = vet_records.gender=='m'"
   ]
  },
  {
   "cell_type": "markdown",
   "metadata": {},
   "source": [
    "Notice this is a series of `True` and `False` where if the gender column as \"m\", then it was True."
   ]
  },
  {
   "cell_type": "code",
   "execution_count": null,
   "metadata": {},
   "outputs": [],
   "source": [
    "mask"
   ]
  },
  {
   "cell_type": "markdown",
   "metadata": {},
   "source": [
    "Applying this series as a mask results in only returning the male pets.  You can also use `~` to get the female pets."
   ]
  },
  {
   "cell_type": "code",
   "execution_count": null,
   "metadata": {},
   "outputs": [],
   "source": [
    "vet_records[mask]"
   ]
  },
  {
   "cell_type": "markdown",
   "metadata": {},
   "source": [
    "Finally check to see that vet_records was not altered."
   ]
  },
  {
   "cell_type": "code",
   "execution_count": null,
   "metadata": {},
   "outputs": [],
   "source": [
    "vet_records"
   ]
  },
  {
   "cell_type": "markdown",
   "metadata": {},
   "source": [
    "### None and NaN\n",
    "#### `.isna` will create a boolean dataframe `True` where the value is `NaN` or `None`.\n",
    "**It is advisable to deal with NaN and None values before doing ny calculations.  A NaN and None cell are ignored during calculations.**"
   ]
  },
  {
   "cell_type": "code",
   "execution_count": null,
   "metadata": {},
   "outputs": [],
   "source": [
    "vet_records.isna()"
   ]
  },
  {
   "cell_type": "code",
   "execution_count": null,
   "metadata": {},
   "outputs": [],
   "source": [
    "vet_records_example = vet_records.fillna(0)"
   ]
  },
  {
   "cell_type": "code",
   "execution_count": null,
   "metadata": {},
   "outputs": [],
   "source": [
    "vet_records_example"
   ]
  },
  {
   "cell_type": "markdown",
   "metadata": {},
   "source": [
    "#### Use `fillna` With a Values Dictionary"
   ]
  },
  {
   "cell_type": "code",
   "execution_count": null,
   "metadata": {},
   "outputs": [],
   "source": [
    "values = {\"age\": 12, \"vaccinated\": False}"
   ]
  },
  {
   "cell_type": "code",
   "execution_count": null,
   "metadata": {},
   "outputs": [],
   "source": [
    "vet_records.fillna(value=values)"
   ]
  },
  {
   "cell_type": "markdown",
   "metadata": {},
   "source": [
    "Notice that `vet_records` was not changed.  It would need to set equal to another variable or itself to save the changes."
   ]
  },
  {
   "cell_type": "code",
   "execution_count": null,
   "metadata": {},
   "outputs": [],
   "source": [
    "vet_records"
   ]
  },
  {
   "cell_type": "code",
   "execution_count": null,
   "metadata": {},
   "outputs": [],
   "source": [
    "vet_records_na = vet_records.fillna(value=values)"
   ]
  },
  {
   "cell_type": "code",
   "execution_count": null,
   "metadata": {},
   "outputs": [],
   "source": [
    "vet_records_na"
   ]
  }
 ],
 "metadata": {
  "kernelspec": {
   "display_name": "Python 3",
   "language": "python",
   "name": "python3"
  },
  "language_info": {
   "codemirror_mode": {
    "name": "ipython",
    "version": 3
   },
   "file_extension": ".py",
   "mimetype": "text/x-python",
   "name": "python",
   "nbconvert_exporter": "python",
   "pygments_lexer": "ipython3",
   "version": "3.7.6"
  }
 },
 "nbformat": 4,
 "nbformat_minor": 4
}
